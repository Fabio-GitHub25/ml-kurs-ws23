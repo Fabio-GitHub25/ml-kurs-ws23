{
 "cells": [
  {
   "cell_type": "code",
   "execution_count": 1,
   "id": "44688582",
   "metadata": {},
   "outputs": [],
   "source": [
    "import pandas as pd"
   ]
  },
  {
   "cell_type": "code",
   "execution_count": 2,
   "id": "62df9433",
   "metadata": {},
   "outputs": [],
   "source": [
    "data = pd.read_csv(\"data/digits.csv\")"
   ]
  },
  {
   "cell_type": "code",
   "execution_count": 3,
   "id": "27249b1b",
   "metadata": {},
   "outputs": [
    {
     "data": {
      "text/html": [
       "<div>\n",
       "<style scoped>\n",
       "    .dataframe tbody tr th:only-of-type {\n",
       "        vertical-align: middle;\n",
       "    }\n",
       "\n",
       "    .dataframe tbody tr th {\n",
       "        vertical-align: top;\n",
       "    }\n",
       "\n",
       "    .dataframe thead th {\n",
       "        text-align: right;\n",
       "    }\n",
       "</style>\n",
       "<table border=\"1\" class=\"dataframe\">\n",
       "  <thead>\n",
       "    <tr style=\"text-align: right;\">\n",
       "      <th></th>\n",
       "      <th>pixel_0_0</th>\n",
       "      <th>pixel_0_1</th>\n",
       "      <th>pixel_0_2</th>\n",
       "      <th>pixel_0_3</th>\n",
       "      <th>pixel_0_4</th>\n",
       "      <th>pixel_0_5</th>\n",
       "      <th>pixel_0_6</th>\n",
       "      <th>pixel_0_7</th>\n",
       "      <th>pixel_1_0</th>\n",
       "      <th>pixel_1_1</th>\n",
       "      <th>...</th>\n",
       "      <th>pixel_6_7</th>\n",
       "      <th>pixel_7_0</th>\n",
       "      <th>pixel_7_1</th>\n",
       "      <th>pixel_7_2</th>\n",
       "      <th>pixel_7_3</th>\n",
       "      <th>pixel_7_4</th>\n",
       "      <th>pixel_7_5</th>\n",
       "      <th>pixel_7_6</th>\n",
       "      <th>pixel_7_7</th>\n",
       "      <th>label</th>\n",
       "    </tr>\n",
       "  </thead>\n",
       "  <tbody>\n",
       "    <tr>\n",
       "      <th>0</th>\n",
       "      <td>0.0</td>\n",
       "      <td>0.0</td>\n",
       "      <td>5.0</td>\n",
       "      <td>13.0</td>\n",
       "      <td>9.0</td>\n",
       "      <td>1.0</td>\n",
       "      <td>0.0</td>\n",
       "      <td>0.0</td>\n",
       "      <td>0.0</td>\n",
       "      <td>0.0</td>\n",
       "      <td>...</td>\n",
       "      <td>0.0</td>\n",
       "      <td>0.0</td>\n",
       "      <td>0.0</td>\n",
       "      <td>6.0</td>\n",
       "      <td>13.0</td>\n",
       "      <td>10.0</td>\n",
       "      <td>0.0</td>\n",
       "      <td>0.0</td>\n",
       "      <td>0.0</td>\n",
       "      <td>0</td>\n",
       "    </tr>\n",
       "    <tr>\n",
       "      <th>1</th>\n",
       "      <td>0.0</td>\n",
       "      <td>0.0</td>\n",
       "      <td>0.0</td>\n",
       "      <td>12.0</td>\n",
       "      <td>13.0</td>\n",
       "      <td>5.0</td>\n",
       "      <td>0.0</td>\n",
       "      <td>0.0</td>\n",
       "      <td>0.0</td>\n",
       "      <td>0.0</td>\n",
       "      <td>...</td>\n",
       "      <td>0.0</td>\n",
       "      <td>0.0</td>\n",
       "      <td>0.0</td>\n",
       "      <td>0.0</td>\n",
       "      <td>11.0</td>\n",
       "      <td>16.0</td>\n",
       "      <td>10.0</td>\n",
       "      <td>0.0</td>\n",
       "      <td>0.0</td>\n",
       "      <td>1</td>\n",
       "    </tr>\n",
       "    <tr>\n",
       "      <th>2</th>\n",
       "      <td>0.0</td>\n",
       "      <td>0.0</td>\n",
       "      <td>0.0</td>\n",
       "      <td>4.0</td>\n",
       "      <td>15.0</td>\n",
       "      <td>12.0</td>\n",
       "      <td>0.0</td>\n",
       "      <td>0.0</td>\n",
       "      <td>0.0</td>\n",
       "      <td>0.0</td>\n",
       "      <td>...</td>\n",
       "      <td>0.0</td>\n",
       "      <td>0.0</td>\n",
       "      <td>0.0</td>\n",
       "      <td>0.0</td>\n",
       "      <td>3.0</td>\n",
       "      <td>11.0</td>\n",
       "      <td>16.0</td>\n",
       "      <td>9.0</td>\n",
       "      <td>0.0</td>\n",
       "      <td>2</td>\n",
       "    </tr>\n",
       "    <tr>\n",
       "      <th>3</th>\n",
       "      <td>0.0</td>\n",
       "      <td>0.0</td>\n",
       "      <td>7.0</td>\n",
       "      <td>15.0</td>\n",
       "      <td>13.0</td>\n",
       "      <td>1.0</td>\n",
       "      <td>0.0</td>\n",
       "      <td>0.0</td>\n",
       "      <td>0.0</td>\n",
       "      <td>8.0</td>\n",
       "      <td>...</td>\n",
       "      <td>0.0</td>\n",
       "      <td>0.0</td>\n",
       "      <td>0.0</td>\n",
       "      <td>7.0</td>\n",
       "      <td>13.0</td>\n",
       "      <td>13.0</td>\n",
       "      <td>9.0</td>\n",
       "      <td>0.0</td>\n",
       "      <td>0.0</td>\n",
       "      <td>3</td>\n",
       "    </tr>\n",
       "    <tr>\n",
       "      <th>4</th>\n",
       "      <td>0.0</td>\n",
       "      <td>0.0</td>\n",
       "      <td>0.0</td>\n",
       "      <td>1.0</td>\n",
       "      <td>11.0</td>\n",
       "      <td>0.0</td>\n",
       "      <td>0.0</td>\n",
       "      <td>0.0</td>\n",
       "      <td>0.0</td>\n",
       "      <td>0.0</td>\n",
       "      <td>...</td>\n",
       "      <td>0.0</td>\n",
       "      <td>0.0</td>\n",
       "      <td>0.0</td>\n",
       "      <td>0.0</td>\n",
       "      <td>2.0</td>\n",
       "      <td>16.0</td>\n",
       "      <td>4.0</td>\n",
       "      <td>0.0</td>\n",
       "      <td>0.0</td>\n",
       "      <td>4</td>\n",
       "    </tr>\n",
       "  </tbody>\n",
       "</table>\n",
       "<p>5 rows × 65 columns</p>\n",
       "</div>"
      ],
      "text/plain": [
       "   pixel_0_0  pixel_0_1  pixel_0_2  pixel_0_3  pixel_0_4  pixel_0_5  \\\n",
       "0        0.0        0.0        5.0       13.0        9.0        1.0   \n",
       "1        0.0        0.0        0.0       12.0       13.0        5.0   \n",
       "2        0.0        0.0        0.0        4.0       15.0       12.0   \n",
       "3        0.0        0.0        7.0       15.0       13.0        1.0   \n",
       "4        0.0        0.0        0.0        1.0       11.0        0.0   \n",
       "\n",
       "   pixel_0_6  pixel_0_7  pixel_1_0  pixel_1_1  ...  pixel_6_7  pixel_7_0  \\\n",
       "0        0.0        0.0        0.0        0.0  ...        0.0        0.0   \n",
       "1        0.0        0.0        0.0        0.0  ...        0.0        0.0   \n",
       "2        0.0        0.0        0.0        0.0  ...        0.0        0.0   \n",
       "3        0.0        0.0        0.0        8.0  ...        0.0        0.0   \n",
       "4        0.0        0.0        0.0        0.0  ...        0.0        0.0   \n",
       "\n",
       "   pixel_7_1  pixel_7_2  pixel_7_3  pixel_7_4  pixel_7_5  pixel_7_6  \\\n",
       "0        0.0        6.0       13.0       10.0        0.0        0.0   \n",
       "1        0.0        0.0       11.0       16.0       10.0        0.0   \n",
       "2        0.0        0.0        3.0       11.0       16.0        9.0   \n",
       "3        0.0        7.0       13.0       13.0        9.0        0.0   \n",
       "4        0.0        0.0        2.0       16.0        4.0        0.0   \n",
       "\n",
       "   pixel_7_7  label  \n",
       "0        0.0      0  \n",
       "1        0.0      1  \n",
       "2        0.0      2  \n",
       "3        0.0      3  \n",
       "4        0.0      4  \n",
       "\n",
       "[5 rows x 65 columns]"
      ]
     },
     "execution_count": 3,
     "metadata": {},
     "output_type": "execute_result"
    }
   ],
   "source": [
    "data.head()"
   ]
  },
  {
   "cell_type": "code",
   "execution_count": 4,
   "id": "f9dd172d",
   "metadata": {},
   "outputs": [
    {
     "data": {
      "text/plain": [
       "(1797, 65)"
      ]
     },
     "execution_count": 4,
     "metadata": {},
     "output_type": "execute_result"
    }
   ],
   "source": [
    "data.shape"
   ]
  },
  {
   "cell_type": "code",
   "execution_count": 6,
   "id": "04c01139",
   "metadata": {},
   "outputs": [],
   "source": [
    "import numpy as np"
   ]
  },
  {
   "cell_type": "code",
   "execution_count": 33,
   "id": "e197da1a",
   "metadata": {},
   "outputs": [],
   "source": [
    "index = 508"
   ]
  },
  {
   "cell_type": "code",
   "execution_count": 34,
   "id": "3d84102b",
   "metadata": {},
   "outputs": [],
   "source": [
    "data_no_label = data.drop([\"label\"], axis=1)"
   ]
  },
  {
   "cell_type": "code",
   "execution_count": 35,
   "id": "5305bdfd",
   "metadata": {},
   "outputs": [],
   "source": [
    "line1 = data_no_label.iloc[index].values"
   ]
  },
  {
   "cell_type": "code",
   "execution_count": 36,
   "id": "5a8aefba",
   "metadata": {},
   "outputs": [
    {
     "data": {
      "text/plain": [
       "array([[ 0.,  0.,  6., 10.,  9.,  4.,  0.,  0.],\n",
       "       [ 0.,  0., 14., 10., 16., 16.,  1.,  0.],\n",
       "       [ 0.,  4., 15.,  1.,  9., 16.,  0.,  0.],\n",
       "       [ 0.,  3., 16., 16., 16.,  8.,  0.,  0.],\n",
       "       [ 0.,  0., 12., 14., 16.,  5.,  0.,  0.],\n",
       "       [ 0.,  0., 12.,  1.,  9., 12.,  0.,  0.],\n",
       "       [ 0.,  0., 16.,  6., 14.,  9.,  0.,  0.],\n",
       "       [ 0.,  0.,  8., 12.,  6.,  1.,  0.,  0.]])"
      ]
     },
     "execution_count": 36,
     "metadata": {},
     "output_type": "execute_result"
    }
   ],
   "source": [
    "np.reshape(line1, (8,8))"
   ]
  },
  {
   "cell_type": "code",
   "execution_count": 37,
   "id": "4d4c3242",
   "metadata": {},
   "outputs": [
    {
     "data": {
      "text/plain": [
       "8.0"
      ]
     },
     "execution_count": 37,
     "metadata": {},
     "output_type": "execute_result"
    }
   ],
   "source": [
    "data.iloc[index][\"label\"]"
   ]
  },
  {
   "cell_type": "code",
   "execution_count": 38,
   "id": "65776a96",
   "metadata": {},
   "outputs": [],
   "source": [
    "import matplotlib.pyplot as plt"
   ]
  },
  {
   "cell_type": "code",
   "execution_count": 39,
   "id": "9233afdc",
   "metadata": {},
   "outputs": [],
   "source": [
    "import random"
   ]
  },
  {
   "cell_type": "code",
   "execution_count": 42,
   "id": "7e258a51",
   "metadata": {},
   "outputs": [
    {
     "data": {
      "image/png": "[encoded data removed]",
      "text/plain": [
       "<Figure size 1500x100 with 15 Axes>"
      ]
     },
     "metadata": {},
     "output_type": "display_data"
    }
   ],
   "source": [
    "no_images = 15\n",
    "\n",
    "plt.figure(figsize=(no_images , 1))\n",
    "for index in range(0, no_images):\n",
    "    image_index = random.randint(0, data.shape[0])\n",
    "    features = data_no_label.iloc[image_index].values\n",
    "    features_8x8 = np.reshape(features, (8,8))\n",
    "    label = data.iloc[image_index][\"label\"]\n",
    "    \n",
    "    plt.subplot(1, no_images, index+1)\n",
    "    plt.imshow(features_8x8, cmap=plt.cm.gray)\n",
    "    plt.title(label, fontsize=20)"
   ]
  },
  {
   "cell_type": "code",
   "execution_count": 45,
   "id": "d25141d8",
   "metadata": {},
   "outputs": [],
   "source": [
    "from sklearn.model_selection import train_test_split"
   ]
  },
  {
   "cell_type": "code",
   "execution_count": 58,
   "id": "53441918",
   "metadata": {},
   "outputs": [],
   "source": [
    "X_train, X_test, y_train, y_test = train_test_split(data_no_label, data[\"label\"], random_state=0)"
   ]
  },
  {
   "cell_type": "code",
   "execution_count": 75,
   "id": "f64ee0a8",
   "metadata": {},
   "outputs": [],
   "source": [
    "def label_to_binary(digit, labels):\n",
    "    binary_labels = []\n",
    "    for label in labels:\n",
    "        if(label == digit):\n",
    "            binary_labels.append(1)\n",
    "        else:\n",
    "            binary_labels.append(0)\n",
    "    return np.array(binary_labels)\n",
    "    "
   ]
  },
  {
   "cell_type": "code",
   "execution_count": 77,
   "id": "d4f7ae8e",
   "metadata": {},
   "outputs": [],
   "source": [
    "y_train_0 = label_to_binary(0, y_train)\n",
    "y_test_0 = label_to_binary(0, y_test)"
   ]
  },
  {
   "cell_type": "code",
   "execution_count": 83,
   "id": "443890b7",
   "metadata": {},
   "outputs": [],
   "source": [
    "from sklearn.linear_model import LogisticRegression\n",
    "logReg = LogisticRegression(max_iter=1000)\n",
    "logReg.fit(X_train, y_train_0);"
   ]
  },
  {
   "cell_type": "code",
   "execution_count": 103,
   "id": "ea5f60a8",
   "metadata": {},
   "outputs": [],
   "source": [
    "data_index = 117\n",
    "data_point = X_test.iloc[[data_index]]"
   ]
  },
  {
   "cell_type": "code",
   "execution_count": 104,
   "id": "87970bf2",
   "metadata": {},
   "outputs": [
    {
     "data": {
      "text/plain": [
       "array([1])"
      ]
     },
     "execution_count": 104,
     "metadata": {},
     "output_type": "execute_result"
    }
   ],
   "source": [
    "logReg.predict(data_point)"
   ]
  },
  {
   "cell_type": "code",
   "execution_count": 105,
   "id": "e20439d2",
   "metadata": {},
   "outputs": [
    {
     "data": {
      "text/plain": [
       "Text(0.5, 1.0, '2')"
      ]
     },
     "execution_count": 105,
     "metadata": {},
     "output_type": "execute_result"
    },
    {
     "data": {
      "image/png": "[encoded data removed]",
      "text/plain": [
       "<Figure size 640x480 with 1 Axes>"
      ]
     },
     "metadata": {},
     "output_type": "display_data"
    }
   ],
   "source": [
    "plt.plot()\n",
    "plt.imshow(np.reshape(data_point.values, (8,8)), cmap=plt.cm.gray)\n",
    "plt.title(y_test.iloc[data_index])"
   ]
  },
  {
   "cell_type": "code",
   "execution_count": 96,
   "id": "a6a89e4f",
   "metadata": {},
   "outputs": [],
   "source": [
    "predictions = logReg.predict(X_test)"
   ]
  },
  {
   "cell_type": "code",
   "execution_count": 102,
   "id": "0e1abd20",
   "metadata": {},
   "outputs": [
    {
     "name": "stdout",
     "output_type": "stream",
     "text": [
      "0.9955555555555555\n",
      "0.9487179487179487\n"
     ]
    },
    {
     "data": {
      "text/plain": [
       "1.0"
      ]
     },
     "execution_count": 102,
     "metadata": {},
     "output_type": "execute_result"
    }
   ],
   "source": [
    "from sklearn.metrics import accuracy_score, precision_score, recall_score\n",
    "print(accuracy_score(y_test_0, predictions))\n",
    "print(precision_score(y_test_0, predictions))\n",
    "recall_score(y_test_0, predictions)"
   ]
  },
  {
   "cell_type": "code",
   "execution_count": 106,
   "id": "98d99af4",
   "metadata": {},
   "outputs": [],
   "source": [
    "weights = logReg.coef_[0]"
   ]
  },
  {
   "cell_type": "code",
   "execution_count": 109,
   "id": "80b75ce2",
   "metadata": {},
   "outputs": [],
   "source": [
    "w=np.round(np.reshape(weights, (8,8)), decimals=3)"
   ]
  },
  {
   "cell_type": "code",
   "execution_count": 111,
   "id": "310bd815",
   "metadata": {},
   "outputs": [
    {
     "data": {
      "text/plain": [
       "array([[ 0.   , -0.025, -0.05 ,  0.127, -0.047, -0.24 , -0.209, -0.016],\n",
       "       [-0.   , -0.078, -0.057,  0.214,  0.187,  0.283, -0.017, -0.012],\n",
       "       [ 0.   ,  0.126,  0.184, -0.1  , -0.331,  0.331,  0.001, -0.003],\n",
       "       [-0.   ,  0.075,  0.009, -0.152, -0.556,  0.047,  0.065, -0.   ],\n",
       "       [ 0.   ,  0.139,  0.088, -0.121, -0.55 ,  0.068, -0.004,  0.   ],\n",
       "       [-0.002, -0.045,  0.283, -0.326, -0.204,  0.047,  0.106, -0.   ],\n",
       "       [-0.002, -0.071,  0.066,  0.051,  0.157,  0.004, -0.016, -0.015],\n",
       "       [ 0.   , -0.031, -0.194,  0.192, -0.285, -0.09 , -0.094, -0.071]])"
      ]
     },
     "execution_count": 111,
     "metadata": {},
     "output_type": "execute_result"
    }
   ],
   "source": [
    "w"
   ]
  },
  {
   "cell_type": "code",
   "execution_count": 110,
   "id": "6b4baf27",
   "metadata": {},
   "outputs": [
    {
     "data": {
      "text/plain": [
       "<matplotlib.image.AxesImage at 0x7f9d15a24550>"
      ]
     },
     "execution_count": 110,
     "metadata": {},
     "output_type": "execute_result"
    },
    {
     "data": {
      "image/png": "[encoded data removed]",
      "text/plain": [
       "<Figure size 640x480 with 1 Axes>"
      ]
     },
     "metadata": {},
     "output_type": "display_data"
    }
   ],
   "source": [
    "plt.imshow(w)"
   ]
  },
  {
   "cell_type": "code",
   "execution_count": 112,
   "id": "fc3ba38c",
   "metadata": {},
   "outputs": [],
   "source": [
    "models = []\n",
    "for i in range(0, 10):\n",
    "    logReg = LogisticRegression(max_iter=1000)\n",
    "    y_train_binary = label_to_binary(i, y_train)\n",
    "    logReg.fit(X_train, y_train_binary)\n",
    "    models.append(logReg)\n"
   ]
  },
  {
   "cell_type": "code",
   "execution_count": 113,
   "id": "d6361609",
   "metadata": {},
   "outputs": [
    {
     "data": {
      "text/plain": [
       "[LogisticRegression(max_iter=1000),\n",
       " LogisticRegression(max_iter=1000),\n",
       " LogisticRegression(max_iter=1000),\n",
       " LogisticRegression(max_iter=1000),\n",
       " LogisticRegression(max_iter=1000),\n",
       " LogisticRegression(max_iter=1000),\n",
       " LogisticRegression(max_iter=1000),\n",
       " LogisticRegression(max_iter=1000),\n",
       " LogisticRegression(max_iter=1000),\n",
       " LogisticRegression(max_iter=1000)]"
      ]
     },
     "execution_count": 113,
     "metadata": {},
     "output_type": "execute_result"
    }
   ],
   "source": [
    "models"
   ]
  },
  {
   "cell_type": "code",
   "execution_count": 144,
   "id": "f6327c70",
   "metadata": {},
   "outputs": [
    {
     "data": {
      "text/plain": [
       "[2,\n",
       " 8,\n",
       " 2,\n",
       " 6,\n",
       " 6,\n",
       " 7,\n",
       " 1,\n",
       " 9,\n",
       " 8,\n",
       " 5,\n",
       " 2,\n",
       " 8,\n",
       " 6,\n",
       " 6,\n",
       " 6,\n",
       " 6,\n",
       " 1,\n",
       " 0,\n",
       " 5,\n",
       " 8,\n",
       " 8,\n",
       " 7,\n",
       " 8,\n",
       " 4,\n",
       " 7,\n",
       " 5,\n",
       " 4,\n",
       " 9,\n",
       " 2,\n",
       " 9,\n",
       " 4,\n",
       " 7,\n",
       " 6,\n",
       " 8,\n",
       " 9,\n",
       " 4,\n",
       " 3,\n",
       " 8,\n",
       " 0,\n",
       " 1,\n",
       " 8,\n",
       " 6,\n",
       " 7,\n",
       " 7,\n",
       " 1,\n",
       " 0,\n",
       " 7,\n",
       " 6,\n",
       " 2,\n",
       " 1,\n",
       " 9,\n",
       " 6,\n",
       " 7,\n",
       " 9,\n",
       " 0,\n",
       " 0,\n",
       " 9,\n",
       " 1,\n",
       " 6,\n",
       " 3,\n",
       " 0,\n",
       " 2,\n",
       " 3,\n",
       " 4,\n",
       " 1,\n",
       " 9,\n",
       " 2,\n",
       " 6,\n",
       " 9,\n",
       " 1,\n",
       " 8,\n",
       " 3,\n",
       " 5,\n",
       " 1,\n",
       " 2,\n",
       " 8,\n",
       " 2,\n",
       " 2,\n",
       " 9,\n",
       " 7,\n",
       " 2,\n",
       " 3,\n",
       " 6,\n",
       " 0,\n",
       " 5,\n",
       " 3,\n",
       " 7,\n",
       " 5,\n",
       " 1,\n",
       " 2,\n",
       " 8,\n",
       " 9,\n",
       " 3,\n",
       " 1,\n",
       " 4,\n",
       " 7,\n",
       " 4,\n",
       " 8,\n",
       " 5,\n",
       " 8,\n",
       " 5,\n",
       " 5,\n",
       " 2,\n",
       " 5,\n",
       " 9,\n",
       " 0,\n",
       " 7,\n",
       " 1,\n",
       " 4,\n",
       " 4,\n",
       " 3,\n",
       " 4,\n",
       " 8,\n",
       " 9,\n",
       " 7,\n",
       " 9,\n",
       " 8,\n",
       " 2,\n",
       " 1,\n",
       " 5,\n",
       " 2,\n",
       " 5,\n",
       " 8,\n",
       " 4,\n",
       " 1,\n",
       " 7,\n",
       " 0,\n",
       " 6,\n",
       " 1,\n",
       " 5,\n",
       " 5,\n",
       " 9,\n",
       " 9,\n",
       " 5,\n",
       " 9,\n",
       " 9,\n",
       " 5,\n",
       " 7,\n",
       " 5,\n",
       " 6,\n",
       " 2,\n",
       " 8,\n",
       " 6,\n",
       " 9,\n",
       " 6,\n",
       " 1,\n",
       " 5,\n",
       " 1,\n",
       " 5,\n",
       " 9,\n",
       " 9,\n",
       " 1,\n",
       " 5,\n",
       " 3,\n",
       " 6,\n",
       " 1,\n",
       " 8,\n",
       " 9,\n",
       " 8,\n",
       " 7,\n",
       " 6,\n",
       " 7,\n",
       " 6,\n",
       " 5,\n",
       " 6,\n",
       " 0,\n",
       " 8,\n",
       " 8,\n",
       " 9,\n",
       " 8,\n",
       " 6,\n",
       " 1,\n",
       " 0,\n",
       " 4,\n",
       " 1,\n",
       " 6,\n",
       " 3,\n",
       " 8,\n",
       " 6,\n",
       " 7,\n",
       " 4,\n",
       " 9,\n",
       " 6,\n",
       " 3,\n",
       " 0,\n",
       " 3,\n",
       " 3,\n",
       " 3,\n",
       " 0,\n",
       " 7,\n",
       " 7,\n",
       " 5,\n",
       " 7,\n",
       " 8,\n",
       " 0,\n",
       " 7,\n",
       " 1,\n",
       " 9,\n",
       " 6,\n",
       " 4,\n",
       " 5,\n",
       " 0,\n",
       " 1,\n",
       " 4,\n",
       " 6,\n",
       " 4,\n",
       " 3,\n",
       " 3,\n",
       " 0,\n",
       " 9,\n",
       " 5,\n",
       " 3,\n",
       " 2,\n",
       " 8,\n",
       " 4,\n",
       " 2,\n",
       " 1,\n",
       " 6,\n",
       " 9,\n",
       " 9,\n",
       " 2,\n",
       " 4,\n",
       " 9,\n",
       " 3,\n",
       " 7,\n",
       " 6,\n",
       " 2,\n",
       " 3,\n",
       " 3,\n",
       " 1,\n",
       " 6,\n",
       " 9,\n",
       " 3,\n",
       " 6,\n",
       " 3,\n",
       " 2,\n",
       " 2,\n",
       " 0,\n",
       " 7,\n",
       " 6,\n",
       " 1,\n",
       " 1,\n",
       " 9,\n",
       " 7,\n",
       " 2,\n",
       " 7,\n",
       " 8,\n",
       " 5,\n",
       " 5,\n",
       " 7,\n",
       " 5,\n",
       " 3,\n",
       " 3,\n",
       " 7,\n",
       " 2,\n",
       " 7,\n",
       " 5,\n",
       " 5,\n",
       " 7,\n",
       " 0,\n",
       " 9,\n",
       " 1,\n",
       " 6,\n",
       " 5,\n",
       " 9,\n",
       " 7,\n",
       " 4,\n",
       " 3,\n",
       " 8,\n",
       " 0,\n",
       " 3,\n",
       " 6,\n",
       " 4,\n",
       " 6,\n",
       " 3,\n",
       " 2,\n",
       " 6,\n",
       " 8,\n",
       " 8,\n",
       " 8,\n",
       " 4,\n",
       " 6,\n",
       " 7,\n",
       " 5,\n",
       " 2,\n",
       " 4,\n",
       " 5,\n",
       " 3,\n",
       " 2,\n",
       " 4,\n",
       " 6,\n",
       " 9,\n",
       " 4,\n",
       " 5,\n",
       " 4,\n",
       " 3,\n",
       " 4,\n",
       " 6,\n",
       " 2,\n",
       " 9,\n",
       " 0,\n",
       " 6,\n",
       " 7,\n",
       " 2,\n",
       " 0,\n",
       " 9,\n",
       " 6,\n",
       " 0,\n",
       " 4,\n",
       " 2,\n",
       " 0,\n",
       " 7,\n",
       " 9,\n",
       " 8,\n",
       " 5,\n",
       " 4,\n",
       " 8,\n",
       " 2,\n",
       " 8,\n",
       " 4,\n",
       " 3,\n",
       " 7,\n",
       " 2,\n",
       " 6,\n",
       " 9,\n",
       " 1,\n",
       " 5,\n",
       " 1,\n",
       " 0,\n",
       " 8,\n",
       " 2,\n",
       " 8,\n",
       " 9,\n",
       " 5,\n",
       " 6,\n",
       " 2,\n",
       " 2,\n",
       " 7,\n",
       " 2,\n",
       " 1,\n",
       " 5,\n",
       " 1,\n",
       " 6,\n",
       " 4,\n",
       " 5,\n",
       " 0,\n",
       " 9,\n",
       " 4,\n",
       " 1,\n",
       " 1,\n",
       " 7,\n",
       " 0,\n",
       " 8,\n",
       " 9,\n",
       " 0,\n",
       " 5,\n",
       " 4,\n",
       " 3,\n",
       " 8,\n",
       " 8,\n",
       " 6,\n",
       " 5,\n",
       " 3,\n",
       " 4,\n",
       " 4,\n",
       " 4,\n",
       " 8,\n",
       " 8,\n",
       " 7,\n",
       " 0,\n",
       " 9,\n",
       " 6,\n",
       " 3,\n",
       " 5,\n",
       " 2,\n",
       " 3,\n",
       " 0,\n",
       " 8,\n",
       " 2,\n",
       " 3,\n",
       " 1,\n",
       " 3,\n",
       " 3,\n",
       " 0,\n",
       " 0,\n",
       " 4,\n",
       " 6,\n",
       " 0,\n",
       " 7,\n",
       " 7,\n",
       " 6,\n",
       " 2,\n",
       " 0,\n",
       " 4,\n",
       " 4,\n",
       " 2,\n",
       " 3,\n",
       " 7,\n",
       " 1,\n",
       " 9,\n",
       " 8,\n",
       " 6,\n",
       " 8,\n",
       " 5,\n",
       " 6,\n",
       " 2,\n",
       " 2,\n",
       " 3,\n",
       " 1,\n",
       " 7,\n",
       " 7,\n",
       " 8,\n",
       " 0,\n",
       " 3,\n",
       " 3,\n",
       " 2,\n",
       " 1,\n",
       " 5,\n",
       " 5,\n",
       " 9,\n",
       " 1,\n",
       " 3,\n",
       " 7,\n",
       " 0,\n",
       " 0,\n",
       " 3,\n",
       " 0,\n",
       " 4,\n",
       " 5,\n",
       " 8,\n",
       " 3,\n",
       " 3,\n",
       " 4,\n",
       " 3,\n",
       " 1,\n",
       " 8,\n",
       " 9,\n",
       " 8,\n",
       " 3,\n",
       " 6,\n",
       " 3,\n",
       " 1,\n",
       " 6,\n",
       " 2,\n",
       " 1,\n",
       " 7,\n",
       " 5,\n",
       " 5,\n",
       " 1,\n",
       " 9]"
      ]
     },
     "execution_count": 144,
     "metadata": {},
     "output_type": "execute_result"
    }
   ],
   "source": [
    "test_predictions = []\n",
    "for data_index in range(0, len(X_test)):\n",
    "    data_point = X_test.iloc[[data_index]]\n",
    "    predictions = []\n",
    "    for m in models:\n",
    "        predictions.append(m.predict_proba(data_point)[0][1])\n",
    "    predicted_class = predictions.index(max(predictions))\n",
    "    test_predictions.append(predicted_class)\n",
    "\n",
    "test_predictions"
   ]
  },
  {
   "cell_type": "code",
   "execution_count": 145,
   "id": "84405e24",
   "metadata": {},
   "outputs": [
    {
     "data": {
      "text/plain": [
       "0.9511111111111111"
      ]
     },
     "execution_count": 145,
     "metadata": {},
     "output_type": "execute_result"
    }
   ],
   "source": [
    "accuracy_score(y_test, test_predictions)"
   ]
  },
  {
   "cell_type": "code",
   "execution_count": 146,
   "id": "2760d452",
   "metadata": {},
   "outputs": [],
   "source": [
    "from sklearn.metrics import confusion_matrix, ConfusionMatrixDisplay"
   ]
  },
  {
   "cell_type": "code",
   "execution_count": 149,
   "id": "723a275c",
   "metadata": {},
   "outputs": [],
   "source": [
    "cm = confusion_matrix(y_test, test_predictions, labels=range(0,10))"
   ]
  },
  {
   "cell_type": "code",
   "execution_count": 150,
   "id": "bb715968",
   "metadata": {},
   "outputs": [
    {
     "data": {
      "text/plain": [
       "<sklearn.metrics._plot.confusion_matrix.ConfusionMatrixDisplay at 0x7f9d18690670>"
      ]
     },
     "execution_count": 150,
     "metadata": {},
     "output_type": "execute_result"
    },
    {
     "data": {
      "image/png": "[encoded data removed]",
      "text/plain": [
       "<Figure size 640x480 with 2 Axes>"
      ]
     },
     "metadata": {},
     "output_type": "display_data"
    }
   ],
   "source": [
    "disp = ConfusionMatrixDisplay(confusion_matrix=cm, display_labels=range(0,10))\n",
    "disp.plot()"
   ]
  },
  {
   "cell_type": "code",
   "execution_count": 152,
   "id": "8a703d4b",
   "metadata": {},
   "outputs": [],
   "source": [
    "logReg = LogisticRegression(max_iter=10000)\n",
    "logReg.fit(X_train, y_train);"
   ]
  },
  {
   "cell_type": "code",
   "execution_count": 153,
   "id": "f27deca4",
   "metadata": {},
   "outputs": [
    {
     "data": {
      "text/plain": [
       "0.9533333333333334"
      ]
     },
     "execution_count": 153,
     "metadata": {},
     "output_type": "execute_result"
    }
   ],
   "source": [
    "accuracy_score(y_test, logReg.predict(X_test))"
   ]
  },
  {
   "cell_type": "code",
   "execution_count": null,
   "id": "23ac8246",
   "metadata": {},
   "outputs": [],
   "source": []
  }
 ],
 "metadata": {
  "kernelspec": {
   "display_name": "Python 3 (ipykernel)",
   "language": "python",
   "name": "python3"
  },
  "language_info": {
   "codemirror_mode": {
    "name": "ipython",
    "version": 3
   },
   "file_extension": ".py",
   "mimetype": "text/x-python",
   "name": "python",
   "nbconvert_exporter": "python",
   "pygments_lexer": "ipython3",
   "version": "3.8.18"
  }
 },
 "nbformat": 4,
 "nbformat_minor": 5
}
